{
 "cells": [
  {
   "cell_type": "code",
   "execution_count": 1,
   "id": "dfa4e0ad-746a-47ee-accb-d2baab7e1f35",
   "metadata": {},
   "outputs": [],
   "source": [
    "input_string = \"huffman coding\""
   ]
  },
  {
   "cell_type": "code",
   "execution_count": 2,
   "id": "bb54d0f6-2211-4ea4-b575-af6ebd77e2f9",
   "metadata": {},
   "outputs": [],
   "source": [
    "frequency = {}\n",
    "for char in input_string:\n",
    "    if char in frequency:\n",
    "        frequency[char] += 1\n",
    "    else:\n",
    "        frequency[char] = 1"
   ]
  },
  {
   "cell_type": "code",
   "execution_count": 3,
   "id": "8f1e0772-3527-402c-b7fa-26d3a68403b0",
   "metadata": {},
   "outputs": [],
   "source": [
    "nodes = [[char, freq] for char, freq in frequency.items()]"
   ]
  },
  {
   "cell_type": "code",
   "execution_count": 4,
   "id": "bad4cbf5-3e19-4444-b7bc-72d3eb20f232",
   "metadata": {},
   "outputs": [],
   "source": [
    "while len(nodes) > 1:\n",
    "  \n",
    "    nodes = sorted(nodes, key=lambda x: x[1])\n",
    "\n",
    "    left = nodes.pop(0)\n",
    "    right = nodes.pop(0)\n",
    "    new_node = [[left, right], left[1] + right[1]]\n",
    "    nodes.append(new_node)\n",
    "\n",
    "huffman_tree = nodes[0]"
   ]
  },
  {
   "cell_type": "code",
   "execution_count": 5,
   "id": "1899bc10-bc80-4860-b56c-2caa35485157",
   "metadata": {},
   "outputs": [],
   "source": [
    "huffman_codes = {}\n",
    "\n",
    "def generate_codes(tree, code=\"\"):\n",
    "    if isinstance(tree[0], str):  # If it's a leaf node\n",
    "        huffman_codes[tree[0]] = code\n",
    "    else:  # If it's an internal node, recurse\n",
    "        generate_codes(tree[0][0], code + \"0\")\n",
    "        generate_codes(tree[0][1], code + \"1\")\n",
    "\n",
    "generate_codes(huffman_tree)"
   ]
  },
  {
   "cell_type": "code",
   "execution_count": null,
   "id": "d2d85fdd-44aa-466d-8577-2507745797bd",
   "metadata": {},
   "outputs": [],
   "source": [
    "print(\"Character | Huffman Code\")\n",
    "print(\"-------------------------\")\n",
    "for char, code in huffman_codes.items():\n",
    "    print(f\"    {char}    |    {code}\")"
   ]
  }
 ],
 "metadata": {
  "kernelspec": {
   "display_name": "Python 3 (ipykernel)",
   "language": "python",
   "name": "python3"
  },
  "language_info": {
   "codemirror_mode": {
    "name": "ipython",
    "version": 3
   },
   "file_extension": ".py",
   "mimetype": "text/x-python",
   "name": "python",
   "nbconvert_exporter": "python",
   "pygments_lexer": "ipython3",
   "version": "3.12.9"
  }
 },
 "nbformat": 4,
 "nbformat_minor": 5
}
